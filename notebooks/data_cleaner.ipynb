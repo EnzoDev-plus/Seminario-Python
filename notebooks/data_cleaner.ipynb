{
 "cells": [
  {
   "cell_type": "code",
   "execution_count": 1,
   "metadata": {},
   "outputs": [],
   "source": [
    "import sys\n",
    "import os\n",
    "\n",
    "sys.path.append(os.path.abspath(\"../src\"))\n"
   ]
  },
  {
   "cell_type": "code",
   "execution_count": null,
   "metadata": {},
   "outputs": [],
   "source": [
    "from cleaner import general\n",
    "dataset = [\n",
    "        { \"name\": \"Carlos\",\n",
    "         \"age\": \"25\",\n",
    "         \"email\":\"carlos@example.com\",\n",
    "         \"country\":\"argentina\",\n",
    "         },\n",
    "        ]\n",
    "data = clean_data(dataset)\n",
    "print(data)"
   ]
  },
  {
   "cell_type": "code",
   "execution_count": 4,
   "metadata": {},
   "outputs": [
    {
     "ename": "ModuleNotFoundError",
     "evalue": "No module named 'cleaner'",
     "output_type": "error",
     "traceback": [
      "\u001b[31m---------------------------------------------------------------------------\u001b[39m",
      "\u001b[31mModuleNotFoundError\u001b[39m                       Traceback (most recent call last)",
      "\u001b[36mCell\u001b[39m\u001b[36m \u001b[39m\u001b[32mIn[4]\u001b[39m\u001b[32m, line 1\u001b[39m\n\u001b[32m----> \u001b[39m\u001b[32m1\u001b[39m \u001b[38;5;28;01mfrom\u001b[39;00m\u001b[38;5;250m \u001b[39m\u001b[34;01mcleaner\u001b[39;00m\u001b[34;01m.\u001b[39;00m\u001b[34;01mgeneral\u001b[39;00m\u001b[38;5;250m \u001b[39m\u001b[38;5;28;01mimport\u001b[39;00m processing \n\u001b[32m      3\u001b[39m zen = \u001b[33m\"\"\"\u001b[39m\u001b[33mBeautiful is better than ugly.\u001b[39m\n\u001b[32m      4\u001b[39m \u001b[33m    Explicit is better than implicit.\u001b[39m\n\u001b[32m      5\u001b[39m \u001b[33m    Simple is better than complex.\u001b[39m\n\u001b[32m   (...)\u001b[39m\u001b[32m     20\u001b[39m \u001b[33m    If the implementation is easy to explain, it may be a good idea.\u001b[39m\n\u001b[32m     21\u001b[39m \u001b[33m    Namespaces are one honking great idea -- let\u001b[39m\u001b[33m'\u001b[39m\u001b[33ms do more of those!\u001b[39m\u001b[33m\"\"\"\u001b[39m\n\u001b[32m     23\u001b[39m processing(zen)\n",
      "\u001b[31mModuleNotFoundError\u001b[39m: No module named 'cleaner'"
     ]
    }
   ],
   "source": [
    "from cleaner.general import processing \n",
    "\n",
    "zen = \"\"\"Beautiful is better than ugly.\n",
    "    Explicit is better than implicit.\n",
    "    Simple is better than complex.\n",
    "    Complex is better than complicated.\n",
    "    Flat is better than nested.\n",
    "    Sparse is better than dense.\n",
    "    Readability counts.\n",
    "    Special cases aren't special enough to break the rules.\n",
    "    Although practicality beats purity.\n",
    "    Errors should never pass silently.\n",
    "    Unless explicitly silenced.\n",
    "    In the face of ambiguity, refuse the temptation to guess.\n",
    "    There should be one-- and preferably only one --obvious way to do it.\n",
    "    Although that way may not be obvious at first unless you're Dutch.\n",
    "    Now is better than never.\n",
    "    Although never is often better than *right* now.\n",
    "    If the implementation is hard to explain, it's a bad idea.\n",
    "    If the implementation is easy to explain, it may be a good idea.\n",
    "    Namespaces are one honking great idea -- let's do more of those!\"\"\"\n",
    "\n",
    "processing(zen)\n"
   ]
  }
 ],
 "metadata": {
  "kernelspec": {
   "display_name": "venv",
   "language": "python",
   "name": "python3"
  },
  "language_info": {
   "codemirror_mode": {
    "name": "ipython",
    "version": 3
   },
   "file_extension": ".py",
   "mimetype": "text/x-python",
   "name": "python",
   "nbconvert_exporter": "python",
   "pygments_lexer": "ipython3",
   "version": "3.12.9"
  }
 },
 "nbformat": 4,
 "nbformat_minor": 2
}
